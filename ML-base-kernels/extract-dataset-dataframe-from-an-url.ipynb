{
 "cells": [
  {
   "cell_type": "markdown",
   "metadata": {
    "papermill": {
     "duration": 0.013113,
     "end_time": "2020-09-22T17:44:48.597457",
     "exception": false,
     "start_time": "2020-09-22T17:44:48.584344",
     "status": "completed"
    },
    "tags": []
   },
   "source": [
    "# Libraries"
   ]
  },
  {
   "cell_type": "code",
   "execution_count": 1,
   "metadata": {
    "_cell_guid": "b1076dfc-b9ad-4769-8c92-a6c4dae69d19",
    "_uuid": "8f2839f25d086af736a60e9eeb907d3b93b6e0e5",
    "execution": {
     "iopub.execute_input": "2020-09-22T17:44:48.630309Z",
     "iopub.status.busy": "2020-09-22T17:44:48.629392Z",
     "iopub.status.idle": "2020-09-22T17:44:48.633035Z",
     "shell.execute_reply": "2020-09-22T17:44:48.632216Z"
    },
    "papermill": {
     "duration": 0.022978,
     "end_time": "2020-09-22T17:44:48.633178",
     "exception": false,
     "start_time": "2020-09-22T17:44:48.610200",
     "status": "completed"
    },
    "tags": []
   },
   "outputs": [],
   "source": [
    "import numpy as np\n",
    "import pandas as pd # data processing, CSV file I/O (e.g. pd.read_csv)\n",
    "import re\n",
    "import os\n",
    "for dirname, _, filenames in os.walk('/kaggle/input'):\n",
    "    for filename in filenames:\n",
    "        print(os.path.join(dirname, filename))"
   ]
  },
  {
   "cell_type": "markdown",
   "metadata": {
    "papermill": {
     "duration": 0.011312,
     "end_time": "2020-09-22T17:44:48.656580",
     "exception": false,
     "start_time": "2020-09-22T17:44:48.645268",
     "status": "completed"
    },
    "tags": []
   },
   "source": [
    "# How to extract the dataset/dataframe from an url"
   ]
  },
  {
   "cell_type": "markdown",
   "metadata": {
    "papermill": {
     "duration": 0.011772,
     "end_time": "2020-09-22T17:44:48.680050",
     "exception": false,
     "start_time": "2020-09-22T17:44:48.668278",
     "status": "completed"
    },
    "tags": []
   },
   "source": [
    "* import the respective libraries to read the text from an url\n",
    "* then check the data by displaying"
   ]
  },
  {
   "cell_type": "markdown",
   "metadata": {
    "papermill": {
     "duration": 0.011273,
     "end_time": "2020-09-22T17:44:48.703250",
     "exception": false,
     "start_time": "2020-09-22T17:44:48.691977",
     "status": "completed"
    },
    "tags": []
   },
   "source": [
    "showing only few lines to not clutter the notebook"
   ]
  },
  {
   "cell_type": "code",
   "execution_count": 2,
   "metadata": {
    "_cell_guid": "79c7e3d0-c299-4dcb-8224-4455121ee9b0",
    "_uuid": "d629ff2d2480ee46fbb7e2d37f6b5fab8052498a",
    "execution": {
     "iopub.execute_input": "2020-09-22T17:44:48.735570Z",
     "iopub.status.busy": "2020-09-22T17:44:48.734310Z",
     "iopub.status.idle": "2020-09-22T17:44:49.087566Z",
     "shell.execute_reply": "2020-09-22T17:44:49.089617Z"
    },
    "papermill": {
     "duration": 0.374901,
     "end_time": "2020-09-22T17:44:49.089908",
     "exception": false,
     "start_time": "2020-09-22T17:44:48.715007",
     "status": "completed"
    },
    "tags": []
   },
   "outputs": [
    {
     "name": "stdout",
     "output_type": "stream",
     "text": [
      "0    The Boston house-price data of Harrison, D. and Rubinfeld, D.L. 'Hedonic\n",
      "1    prices and the demand for clean air', J. Environ. Economics & Management,\n",
      "2    vol.5, 81-102, 1978.   Used in Belsley, Kuh & Welsch, 'Regression diagnostics\n",
      "3    ...', Wiley, 1980.   N.B. Various transformations are used in the table on\n",
      "4    pages 244-261 of the latter.\n",
      "5   \n",
      "6    Variables in order:\n",
      "7    CRIM     per capita crime rate by town\n",
      "8    ZN       proportion of residential land zoned for lots over 25,000 sq.ft.\n",
      "9    INDUS    proportion of non-retail business acres per town\n",
      "10    CHAS     Charles River dummy variable (= 1 if tract bounds river; 0 otherwise)\n",
      "11    NOX      nitric oxides concentration (parts per 10 million)\n",
      "12    RM       average number of rooms per dwelling\n",
      "13    AGE      proportion of owner-occupied units built prior to 1940\n",
      "14    DIS      weighted distances to five Boston employment centres\n",
      "15    RAD      index of accessibility to radial highways\n",
      "16    TAX      full-value property-tax rate per $10,000\n",
      "17    PTRATIO  pupil-teacher ratio by town\n",
      "18    B        1000(Bk - 0.63)^2 where Bk is the proportion of blacks by town\n",
      "19    LSTAT    % lower status of the population\n",
      "20    MEDV     Median value of owner-occupied homes in $1000's\n",
      "21   \n",
      "22    0.00632  18.00   2.310  0  0.5380  6.5750  65.20  4.0900   1  296.0  15.30\n",
      "23     396.90   4.98  24.00\n",
      "1021     395.77  15.10  17.50\n",
      "1022    0.22438   0.00   9.690  0  0.5850  6.0270  79.70  2.4982   6  391.0  19.20\n",
      "1023     396.90  14.33  16.80\n",
      "1024    0.06263   0.00  11.930  0  0.5730  6.5930  69.10  2.4786   1  273.0  21.00\n",
      "1025     391.99   9.67  22.40\n",
      "1026    0.04527   0.00  11.930  0  0.5730  6.1200  76.70  2.2875   1  273.0  21.00\n",
      "1027     396.90   9.08  20.60\n",
      "1028    0.06076   0.00  11.930  0  0.5730  6.9760  91.00  2.1675   1  273.0  21.00\n",
      "1029     396.90   5.64  23.90\n",
      "1030    0.10959   0.00  11.930  0  0.5730  6.7940  89.30  2.3889   1  273.0  21.00\n",
      "1031     393.45   6.48  22.00\n",
      "1032    0.04741   0.00  11.930  0  0.5730  6.0300  80.80  2.5050   1  273.0  21.00\n",
      "1033     396.90   7.88  11.90\n",
      "1034   \n"
     ]
    }
   ],
   "source": [
    "import requests\n",
    "\n",
    "response = requests.get('http://lib.stat.cmu.edu/datasets/boston')\n",
    "data = response.text\n",
    "for i, line in enumerate(data.split('\\n')):\n",
    "    if i<24:\n",
    "        print(f'{i}   {line}' )\n",
    "    elif i>1020:\n",
    "        print(f'{i}   {line}' )"
   ]
  },
  {
   "cell_type": "code",
   "execution_count": 3,
   "metadata": {
    "execution": {
     "iopub.execute_input": "2020-09-22T17:44:49.124132Z",
     "iopub.status.busy": "2020-09-22T17:44:49.123061Z",
     "iopub.status.idle": "2020-09-22T17:44:49.125987Z",
     "shell.execute_reply": "2020-09-22T17:44:49.125336Z"
    },
    "papermill": {
     "duration": 0.020253,
     "end_time": "2020-09-22T17:44:49.126122",
     "exception": false,
     "start_time": "2020-09-22T17:44:49.105869",
     "status": "completed"
    },
    "tags": []
   },
   "outputs": [],
   "source": [
    "# enbale below two lines to view entire text data\n",
    "# for i, line in enumerate(data.split('\\n')):\n",
    "#     print(f'{i}   {line}' )"
   ]
  },
  {
   "cell_type": "markdown",
   "metadata": {
    "papermill": {
     "duration": 0.012214,
     "end_time": "2020-09-22T17:44:49.150835",
     "exception": false,
     "start_time": "2020-09-22T17:44:49.138621",
     "status": "completed"
    },
    "tags": []
   },
   "source": [
    "**Analysis:**\n",
    "* columns are located from the line 6 to 20\n",
    "* data is from line 22 to end-1\n",
    "* **Note**: the last line is empty so consider only upto last but one line"
   ]
  },
  {
   "cell_type": "markdown",
   "metadata": {
    "papermill": {
     "duration": 0.014452,
     "end_time": "2020-09-22T17:44:49.178423",
     "exception": false,
     "start_time": "2020-09-22T17:44:49.163971",
     "status": "completed"
    },
    "tags": []
   },
   "source": [
    "## Extract Columns\n",
    "* Using regular expressions to extract the columns from the text"
   ]
  },
  {
   "cell_type": "code",
   "execution_count": 4,
   "metadata": {
    "execution": {
     "iopub.execute_input": "2020-09-22T17:44:49.216922Z",
     "iopub.status.busy": "2020-09-22T17:44:49.215633Z",
     "iopub.status.idle": "2020-09-22T17:44:49.220990Z",
     "shell.execute_reply": "2020-09-22T17:44:49.220180Z"
    },
    "papermill": {
     "duration": 0.029758,
     "end_time": "2020-09-22T17:44:49.221129",
     "exception": false,
     "start_time": "2020-09-22T17:44:49.191371",
     "status": "completed"
    },
    "tags": []
   },
   "outputs": [
    {
     "data": {
      "text/plain": [
       "['CRIM',\n",
       " 'ZN',\n",
       " 'INDUS',\n",
       " 'CHAS',\n",
       " 'NOX',\n",
       " 'RM',\n",
       " 'AGE',\n",
       " 'DIS',\n",
       " 'RAD',\n",
       " 'TAX',\n",
       " 'PTRATIO',\n",
       " 'B',\n",
       " 'LSTAT',\n",
       " 'MEDV']"
      ]
     },
     "execution_count": 4,
     "metadata": {},
     "output_type": "execute_result"
    }
   ],
   "source": [
    "columns = []\n",
    "for i,line in enumerate(data.split('\\n')[:-1]):\n",
    "    if i > 6 and i <21:\n",
    "        if re.match('^\\s*([A-Z]+)',line):\n",
    "            columns.append(re.match('^\\s*([A-Z]+)',line).groups()[0])\n",
    "columns"
   ]
  },
  {
   "cell_type": "markdown",
   "metadata": {
    "papermill": {
     "duration": 0.016388,
     "end_time": "2020-09-22T17:44:49.253232",
     "exception": false,
     "start_time": "2020-09-22T17:44:49.236844",
     "status": "completed"
    },
    "tags": []
   },
   "source": [
    "## Extract data\n",
    "* now extracting the data into a dataframe"
   ]
  },
  {
   "cell_type": "code",
   "execution_count": 5,
   "metadata": {
    "execution": {
     "iopub.execute_input": "2020-09-22T17:44:49.296874Z",
     "iopub.status.busy": "2020-09-22T17:44:49.296087Z",
     "iopub.status.idle": "2020-09-22T17:44:49.299570Z",
     "shell.execute_reply": "2020-09-22T17:44:49.300167Z"
    },
    "papermill": {
     "duration": 0.033409,
     "end_time": "2020-09-22T17:44:49.300339",
     "exception": false,
     "start_time": "2020-09-22T17:44:49.266930",
     "status": "completed"
    },
    "tags": []
   },
   "outputs": [],
   "source": [
    "l = {}\n",
    "for i,line in enumerate(data.split('\\n')[:-1]):\n",
    "    if i>21:\n",
    "        x = re.findall('[0-9.]+',line)\n",
    "\n",
    "        if len(x)>3:\n",
    "            l[i]=x\n",
    "        else:\n",
    "            l[i-1].extend(x)"
   ]
  },
  {
   "cell_type": "code",
   "execution_count": 6,
   "metadata": {
    "execution": {
     "iopub.execute_input": "2020-09-22T17:44:49.334150Z",
     "iopub.status.busy": "2020-09-22T17:44:49.333325Z",
     "iopub.status.idle": "2020-09-22T17:44:49.338056Z",
     "shell.execute_reply": "2020-09-22T17:44:49.336733Z"
    },
    "papermill": {
     "duration": 0.024063,
     "end_time": "2020-09-22T17:44:49.338236",
     "exception": false,
     "start_time": "2020-09-22T17:44:49.314173",
     "status": "completed"
    },
    "tags": []
   },
   "outputs": [
    {
     "name": "stdout",
     "output_type": "stream",
     "text": [
      "['0.00632', '18.00', '2.310', '0', '0.5380', '6.5750', '65.20', '4.0900', '1', '296.0', '15.30', '396.90', '4.98', '24.00']\n",
      "['0.02731', '0.00', '7.070', '0', '0.4690', '6.4210', '78.90', '4.9671', '2', '242.0', '17.80', '396.90', '9.14', '21.60']\n",
      "['0.02729', '0.00', '7.070', '0', '0.4690', '7.1850', '61.10', '4.9671', '2', '242.0', '17.80', '392.83', '4.03', '34.70']\n"
     ]
    }
   ],
   "source": [
    "# visualizing the data in dictionary l\n",
    "for key in list(l.keys())[:3]:\n",
    "    print(l[key])"
   ]
  },
  {
   "cell_type": "markdown",
   "metadata": {
    "papermill": {
     "duration": 0.013788,
     "end_time": "2020-09-22T17:44:49.366924",
     "exception": false,
     "start_time": "2020-09-22T17:44:49.353136",
     "status": "completed"
    },
    "tags": []
   },
   "source": [
    "## Create DataFrame\n",
    "* now combine the columns with the data"
   ]
  },
  {
   "cell_type": "code",
   "execution_count": 7,
   "metadata": {
    "execution": {
     "iopub.execute_input": "2020-09-22T17:44:49.442030Z",
     "iopub.status.busy": "2020-09-22T17:44:49.433620Z",
     "iopub.status.idle": "2020-09-22T17:44:49.807240Z",
     "shell.execute_reply": "2020-09-22T17:44:49.806575Z"
    },
    "papermill": {
     "duration": 0.425921,
     "end_time": "2020-09-22T17:44:49.807365",
     "exception": false,
     "start_time": "2020-09-22T17:44:49.381444",
     "status": "completed"
    },
    "scrolled": true,
    "tags": []
   },
   "outputs": [
    {
     "data": {
      "text/html": [
       "<div>\n",
       "<style scoped>\n",
       "    .dataframe tbody tr th:only-of-type {\n",
       "        vertical-align: middle;\n",
       "    }\n",
       "\n",
       "    .dataframe tbody tr th {\n",
       "        vertical-align: top;\n",
       "    }\n",
       "\n",
       "    .dataframe thead th {\n",
       "        text-align: right;\n",
       "    }\n",
       "</style>\n",
       "<table border=\"1\" class=\"dataframe\">\n",
       "  <thead>\n",
       "    <tr style=\"text-align: right;\">\n",
       "      <th></th>\n",
       "      <th>CRIM</th>\n",
       "      <th>ZN</th>\n",
       "      <th>INDUS</th>\n",
       "      <th>CHAS</th>\n",
       "      <th>NOX</th>\n",
       "      <th>RM</th>\n",
       "      <th>AGE</th>\n",
       "      <th>DIS</th>\n",
       "      <th>RAD</th>\n",
       "      <th>TAX</th>\n",
       "      <th>PTRATIO</th>\n",
       "      <th>B</th>\n",
       "      <th>LSTAT</th>\n",
       "      <th>MEDV</th>\n",
       "    </tr>\n",
       "  </thead>\n",
       "  <tbody>\n",
       "    <tr>\n",
       "      <th>0</th>\n",
       "      <td>0.00632</td>\n",
       "      <td>18.00</td>\n",
       "      <td>2.310</td>\n",
       "      <td>0</td>\n",
       "      <td>0.5380</td>\n",
       "      <td>6.5750</td>\n",
       "      <td>65.20</td>\n",
       "      <td>4.0900</td>\n",
       "      <td>1</td>\n",
       "      <td>296.0</td>\n",
       "      <td>15.30</td>\n",
       "      <td>396.90</td>\n",
       "      <td>4.98</td>\n",
       "      <td>24.00</td>\n",
       "    </tr>\n",
       "    <tr>\n",
       "      <th>1</th>\n",
       "      <td>0.02731</td>\n",
       "      <td>0.00</td>\n",
       "      <td>7.070</td>\n",
       "      <td>0</td>\n",
       "      <td>0.4690</td>\n",
       "      <td>6.4210</td>\n",
       "      <td>78.90</td>\n",
       "      <td>4.9671</td>\n",
       "      <td>2</td>\n",
       "      <td>242.0</td>\n",
       "      <td>17.80</td>\n",
       "      <td>396.90</td>\n",
       "      <td>9.14</td>\n",
       "      <td>21.60</td>\n",
       "    </tr>\n",
       "    <tr>\n",
       "      <th>2</th>\n",
       "      <td>0.02729</td>\n",
       "      <td>0.00</td>\n",
       "      <td>7.070</td>\n",
       "      <td>0</td>\n",
       "      <td>0.4690</td>\n",
       "      <td>7.1850</td>\n",
       "      <td>61.10</td>\n",
       "      <td>4.9671</td>\n",
       "      <td>2</td>\n",
       "      <td>242.0</td>\n",
       "      <td>17.80</td>\n",
       "      <td>392.83</td>\n",
       "      <td>4.03</td>\n",
       "      <td>34.70</td>\n",
       "    </tr>\n",
       "    <tr>\n",
       "      <th>3</th>\n",
       "      <td>0.03237</td>\n",
       "      <td>0.00</td>\n",
       "      <td>2.180</td>\n",
       "      <td>0</td>\n",
       "      <td>0.4580</td>\n",
       "      <td>6.9980</td>\n",
       "      <td>45.80</td>\n",
       "      <td>6.0622</td>\n",
       "      <td>3</td>\n",
       "      <td>222.0</td>\n",
       "      <td>18.70</td>\n",
       "      <td>394.63</td>\n",
       "      <td>2.94</td>\n",
       "      <td>33.40</td>\n",
       "    </tr>\n",
       "    <tr>\n",
       "      <th>4</th>\n",
       "      <td>0.06905</td>\n",
       "      <td>0.00</td>\n",
       "      <td>2.180</td>\n",
       "      <td>0</td>\n",
       "      <td>0.4580</td>\n",
       "      <td>7.1470</td>\n",
       "      <td>54.20</td>\n",
       "      <td>6.0622</td>\n",
       "      <td>3</td>\n",
       "      <td>222.0</td>\n",
       "      <td>18.70</td>\n",
       "      <td>396.90</td>\n",
       "      <td>5.33</td>\n",
       "      <td>36.20</td>\n",
       "    </tr>\n",
       "    <tr>\n",
       "      <th>...</th>\n",
       "      <td>...</td>\n",
       "      <td>...</td>\n",
       "      <td>...</td>\n",
       "      <td>...</td>\n",
       "      <td>...</td>\n",
       "      <td>...</td>\n",
       "      <td>...</td>\n",
       "      <td>...</td>\n",
       "      <td>...</td>\n",
       "      <td>...</td>\n",
       "      <td>...</td>\n",
       "      <td>...</td>\n",
       "      <td>...</td>\n",
       "      <td>...</td>\n",
       "    </tr>\n",
       "    <tr>\n",
       "      <th>501</th>\n",
       "      <td>0.06263</td>\n",
       "      <td>0.00</td>\n",
       "      <td>11.930</td>\n",
       "      <td>0</td>\n",
       "      <td>0.5730</td>\n",
       "      <td>6.5930</td>\n",
       "      <td>69.10</td>\n",
       "      <td>2.4786</td>\n",
       "      <td>1</td>\n",
       "      <td>273.0</td>\n",
       "      <td>21.00</td>\n",
       "      <td>391.99</td>\n",
       "      <td>9.67</td>\n",
       "      <td>22.40</td>\n",
       "    </tr>\n",
       "    <tr>\n",
       "      <th>502</th>\n",
       "      <td>0.04527</td>\n",
       "      <td>0.00</td>\n",
       "      <td>11.930</td>\n",
       "      <td>0</td>\n",
       "      <td>0.5730</td>\n",
       "      <td>6.1200</td>\n",
       "      <td>76.70</td>\n",
       "      <td>2.2875</td>\n",
       "      <td>1</td>\n",
       "      <td>273.0</td>\n",
       "      <td>21.00</td>\n",
       "      <td>396.90</td>\n",
       "      <td>9.08</td>\n",
       "      <td>20.60</td>\n",
       "    </tr>\n",
       "    <tr>\n",
       "      <th>503</th>\n",
       "      <td>0.06076</td>\n",
       "      <td>0.00</td>\n",
       "      <td>11.930</td>\n",
       "      <td>0</td>\n",
       "      <td>0.5730</td>\n",
       "      <td>6.9760</td>\n",
       "      <td>91.00</td>\n",
       "      <td>2.1675</td>\n",
       "      <td>1</td>\n",
       "      <td>273.0</td>\n",
       "      <td>21.00</td>\n",
       "      <td>396.90</td>\n",
       "      <td>5.64</td>\n",
       "      <td>23.90</td>\n",
       "    </tr>\n",
       "    <tr>\n",
       "      <th>504</th>\n",
       "      <td>0.10959</td>\n",
       "      <td>0.00</td>\n",
       "      <td>11.930</td>\n",
       "      <td>0</td>\n",
       "      <td>0.5730</td>\n",
       "      <td>6.7940</td>\n",
       "      <td>89.30</td>\n",
       "      <td>2.3889</td>\n",
       "      <td>1</td>\n",
       "      <td>273.0</td>\n",
       "      <td>21.00</td>\n",
       "      <td>393.45</td>\n",
       "      <td>6.48</td>\n",
       "      <td>22.00</td>\n",
       "    </tr>\n",
       "    <tr>\n",
       "      <th>505</th>\n",
       "      <td>0.04741</td>\n",
       "      <td>0.00</td>\n",
       "      <td>11.930</td>\n",
       "      <td>0</td>\n",
       "      <td>0.5730</td>\n",
       "      <td>6.0300</td>\n",
       "      <td>80.80</td>\n",
       "      <td>2.5050</td>\n",
       "      <td>1</td>\n",
       "      <td>273.0</td>\n",
       "      <td>21.00</td>\n",
       "      <td>396.90</td>\n",
       "      <td>7.88</td>\n",
       "      <td>11.90</td>\n",
       "    </tr>\n",
       "  </tbody>\n",
       "</table>\n",
       "<p>506 rows × 14 columns</p>\n",
       "</div>"
      ],
      "text/plain": [
       "        CRIM     ZN   INDUS CHAS     NOX      RM    AGE     DIS RAD    TAX  \\\n",
       "0    0.00632  18.00   2.310    0  0.5380  6.5750  65.20  4.0900   1  296.0   \n",
       "1    0.02731   0.00   7.070    0  0.4690  6.4210  78.90  4.9671   2  242.0   \n",
       "2    0.02729   0.00   7.070    0  0.4690  7.1850  61.10  4.9671   2  242.0   \n",
       "3    0.03237   0.00   2.180    0  0.4580  6.9980  45.80  6.0622   3  222.0   \n",
       "4    0.06905   0.00   2.180    0  0.4580  7.1470  54.20  6.0622   3  222.0   \n",
       "..       ...    ...     ...  ...     ...     ...    ...     ...  ..    ...   \n",
       "501  0.06263   0.00  11.930    0  0.5730  6.5930  69.10  2.4786   1  273.0   \n",
       "502  0.04527   0.00  11.930    0  0.5730  6.1200  76.70  2.2875   1  273.0   \n",
       "503  0.06076   0.00  11.930    0  0.5730  6.9760  91.00  2.1675   1  273.0   \n",
       "504  0.10959   0.00  11.930    0  0.5730  6.7940  89.30  2.3889   1  273.0   \n",
       "505  0.04741   0.00  11.930    0  0.5730  6.0300  80.80  2.5050   1  273.0   \n",
       "\n",
       "    PTRATIO       B LSTAT   MEDV  \n",
       "0     15.30  396.90  4.98  24.00  \n",
       "1     17.80  396.90  9.14  21.60  \n",
       "2     17.80  392.83  4.03  34.70  \n",
       "3     18.70  394.63  2.94  33.40  \n",
       "4     18.70  396.90  5.33  36.20  \n",
       "..      ...     ...   ...    ...  \n",
       "501   21.00  391.99  9.67  22.40  \n",
       "502   21.00  396.90  9.08  20.60  \n",
       "503   21.00  396.90  5.64  23.90  \n",
       "504   21.00  393.45  6.48  22.00  \n",
       "505   21.00  396.90  7.88  11.90  \n",
       "\n",
       "[506 rows x 14 columns]"
      ]
     },
     "execution_count": 7,
     "metadata": {},
     "output_type": "execute_result"
    }
   ],
   "source": [
    "df=pd.DataFrame(columns=columns)\n",
    "df.columns=columns\n",
    "for i in l:\n",
    "    row = l[i]\n",
    "    df.loc[i,:]=row\n",
    "df.reset_index(drop=True,inplace=True)\n",
    "df"
   ]
  },
  {
   "cell_type": "code",
   "execution_count": 23,
   "metadata": {},
   "outputs": [],
   "source": [
    "df.to_csv('..\\input\\Boston-house-price-data.csv',index=False,line_terminator='\\r')"
   ]
  },
  {
   "cell_type": "markdown",
   "metadata": {
    "papermill": {
     "duration": 0.014594,
     "end_time": "2020-09-22T17:44:49.837878",
     "exception": false,
     "start_time": "2020-09-22T17:44:49.823284",
     "status": "completed"
    },
    "tags": []
   },
   "source": [
    "# Happy learning!!!"
   ]
  }
 ],
 "metadata": {
  "kernelspec": {
   "display_name": "Python 3",
   "language": "python",
   "name": "python3"
  },
  "language_info": {
   "codemirror_mode": {
    "name": "ipython",
    "version": 3
   },
   "file_extension": ".py",
   "mimetype": "text/x-python",
   "name": "python",
   "nbconvert_exporter": "python",
   "pygments_lexer": "ipython3",
   "version": "3.8.5"
  },
  "papermill": {
   "duration": 6.595227,
   "end_time": "2020-09-22T17:44:49.962152",
   "environment_variables": {},
   "exception": null,
   "input_path": "__notebook__.ipynb",
   "output_path": "__notebook__.ipynb",
   "parameters": {},
   "start_time": "2020-09-22T17:44:43.366925",
   "version": "2.1.0"
  }
 },
 "nbformat": 4,
 "nbformat_minor": 4
}
