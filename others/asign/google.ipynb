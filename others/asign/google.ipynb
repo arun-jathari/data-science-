{
 "cells": [
  {
   "cell_type": "code",
   "execution_count": 1,
   "metadata": {},
   "outputs": [
    {
     "data": {
      "text/plain": [
       "487067745"
      ]
     },
     "execution_count": 1,
     "metadata": {},
     "output_type": "execute_result"
    }
   ],
   "source": [
    "def solution(n):\n",
    "    m = [[0 for i in range(n + 1)] for j in range(n + 1)]\n",
    "    m[0][0] = 1  # base case\n",
    "    for stair in range(1, n + 1):\n",
    "        for left in range(0, n + 1):\n",
    "            m[stair][left] = m[stair - 1][left]\n",
    "            if left >= stair:\n",
    "                m[stair][left] += m[stair - 1][left - stair]\n",
    "\t          \t\n",
    "    return m[n][n] -1\n",
    "solution(200)"
   ]
  },
  {
   "cell_type": "code",
   "execution_count": 1,
   "metadata": {},
   "outputs": [
    {
     "data": {
      "text/plain": [
       "444792"
      ]
     },
     "execution_count": 1,
     "metadata": {},
     "output_type": "execute_result"
    }
   ],
   "source": [
    "def grandStair(n):\n",
    "    table = [1] + [0]*(n)\n",
    "    for brick in range(1, n+1):\n",
    "        for height in range(n, brick-1, -1):\n",
    "            table[height] += table[height - brick]\n",
    "    return table[-1]-1\n",
    "grandStair(100)"
   ]
  },
  {
   "cell_type": "code",
   "execution_count": 9,
   "metadata": {},
   "outputs": [
    {
     "name": "stdout",
     "output_type": "stream",
     "text": [
      "add 0 to position 5\n",
      "[1, 0, 0, 0, 0, 0]\n",
      "add 0 to position 4\n",
      "[1, 0, 0, 0, 0, 0]\n",
      "add 0 to position 3\n",
      "[1, 0, 0, 0, 0, 0]\n",
      "add 0 to position 2\n",
      "[1, 0, 0, 0, 0, 0]\n",
      "add 1 to position 1\n",
      "[1, 1, 0, 0, 0, 0]\n",
      "add 0 to position 5\n",
      "[1, 1, 0, 0, 0, 0]\n",
      "add 0 to position 4\n",
      "[1, 1, 0, 0, 0, 0]\n",
      "add 1 to position 3\n",
      "[1, 1, 0, 1, 0, 0]\n",
      "add 1 to position 2\n",
      "[1, 1, 1, 1, 0, 0]\n",
      "add 1 to position 5\n",
      "[1, 1, 1, 1, 0, 1]\n",
      "add 1 to position 4\n",
      "[1, 1, 1, 1, 1, 1]\n",
      "add 1 to position 3\n",
      "[1, 1, 1, 2, 1, 1]\n",
      "add 1 to position 5\n",
      "[1, 1, 1, 2, 1, 2]\n",
      "add 1 to position 4\n",
      "[1, 1, 1, 2, 2, 2]\n",
      "add 1 to position 5\n",
      "[1, 1, 1, 2, 2, 3]\n"
     ]
    },
    {
     "data": {
      "text/plain": [
       "2"
      ]
     },
     "execution_count": 9,
     "metadata": {},
     "output_type": "execute_result"
    }
   ],
   "source": [
    "def answer(n):\n",
    "    # make n+1 coefficients\n",
    "    coefficients = [1]+[0]* n\n",
    "    #go through all the combos\n",
    "    for i in range(1, n+1):\n",
    "        #start from the back and go down until you reach the middle\n",
    "        for j in range(n, i-1, -1):\n",
    "            print (\"add\", coefficients[j-i], \"to position\", j)\n",
    "            coefficients[j] += coefficients[j-i]\n",
    "            print( coefficients)\n",
    "    return coefficients[n] - 1\n",
    "answer(5)"
   ]
  },
  {
   "cell_type": "markdown",
   "metadata": {},
   "source": [
    "Wiki:  [Odd_parts_and_distinct_parts](https://en.wikipedia.org/wiki/Partition_(number_theory)#Odd_parts_and_distinct_parts)  \n",
    "Series: [A000009](https://oeis.org/A000009)"
   ]
  },
  {
   "cell_type": "code",
   "execution_count": 20,
   "metadata": {},
   "outputs": [
    {
     "name": "stdout",
     "output_type": "stream",
     "text": [
      "coefficient: [1, 0, 0, 0, 0, 0, 0, 0]\n",
      "[1, 1, 0, 0, 0, 0, 0, 0]\n",
      "[1, 1, 1, 1, 0, 0, 0, 0]\n",
      "[1, 1, 1, 2, 1, 1, 1, 0]\n",
      "[1, 1, 1, 2, 2, 2, 2, 2]\n",
      "[1, 1, 1, 2, 2, 3, 3, 3]\n",
      "[1, 1, 1, 2, 2, 3, 4, 4]\n",
      "[1, 1, 1, 2, 2, 3, 4, 5]\n"
     ]
    },
    {
     "data": {
      "text/plain": [
       "4"
      ]
     },
     "execution_count": 20,
     "metadata": {},
     "output_type": "execute_result"
    }
   ],
   "source": [
    "def answer(n):\n",
    "    # make n+1 coefficients\n",
    "    coefficients = [1]+[0]* n\n",
    "    print('coefficient:',coefficients)\n",
    "    #go through all the combos\n",
    "    for i in range(1, n+1):\n",
    "        #start from the back and go down until you reach the middle\n",
    "        for j in range(n, i-1, -1):\n",
    "            # print (\"add\", coefficients[j-i], \"to position\", j, ' i:',i ,' j-i:',j-i)\n",
    "            # print('j:',j, ' i:',i,' ',j-i,' -> ',j)\n",
    "            coefficients[j] += coefficients[j-i]\n",
    "        print (coefficients)\n",
    "    # print(coefficients)\n",
    "    return coefficients[n] - 1\n",
    "answer(7)"
   ]
  },
  {
   "cell_type": "code",
   "execution_count": null,
   "metadata": {},
   "outputs": [],
   "source": [
    "# uses A010815\n",
    "\n",
    "from functools import lru_cache\n",
    "\n",
    "from math import isqrt\n",
    "\n",
    "@lru_cache(maxsize=None)\n",
    "\n",
    "def A000009(n): return 1 if n == 0 else A010815(n)+2*sum((-1)**(k+1)*A000009(n-k**2) for k in range(1, isqrt(n)+1)) # Chai Wah Wu, Sep 08 2021"
   ]
  },
  {
   "cell_type": "markdown",
   "metadata": {},
   "source": [
    "[A008289 OEIS](http://oeis.org/A008289)  \n",
    "$\\prod_{n>0} (1 + y*x^n) = 1 + \\sum_{n>0, k>0} Q(n, k) * x^n * y^k$  \n",
    "  \n",
    "$Q(n, k) = Q(n-k, k) + Q(n-k, k-1) for n>k>=1, with Q(1, 1)=1, Q(n, 0)=0 (n>=1)$  \n",
    "  \n",
    "$\\sum_{n>0, k>0} x^n * y^(k*(k+1)/2) / \\prod_{i=1..k} (1 - y^i)$  \n",
    "  \n",
    "$\\sum_{k>=0} k! * Q(n,k) = A032020(n)$  "
   ]
  },
  {
   "cell_type": "code",
   "execution_count": 21,
   "metadata": {},
   "outputs": [
    {
     "data": {
      "text/plain": [
       "487067745"
      ]
     },
     "execution_count": 21,
     "metadata": {},
     "output_type": "execute_result"
    }
   ],
   "source": [
    "# https://livecodestream.dev/challenge/the-grandest-staircase-of-them-all/\n",
    "def solution(n):\n",
    "    m = [[0 for i in range(n + 1)] for j in range(n + 1)]\n",
    "    m[0][0] = 1  # base case\n",
    "    for stair in range(1, n + 1):\n",
    "        for left in range(0, n + 1):\n",
    "            m[stair][left] = m[stair - 1][left]\n",
    "            if left >= stair:\n",
    "                m[stair][left] += m[stair - 1][left - stair]\n",
    "\t          \t\n",
    "    return m[n][n] -1\n",
    "solution(200)"
   ]
  },
  {
   "cell_type": "code",
   "execution_count": 19,
   "metadata": {},
   "outputs": [
    {
     "data": {
      "text/plain": [
       "487067745"
      ]
     },
     "execution_count": 19,
     "metadata": {},
     "output_type": "execute_result"
    }
   ],
   "source": [
    "def solution(n):\n",
    "    l = [1]+[0]* n\n",
    "    for i in range(1, n+1):\n",
    "        for j in range(n, i-1, -1):\n",
    "            l[j] += l[j-i]\n",
    "    return l[n] - 1\n",
    "solution(200)"
   ]
  },
  {
   "cell_type": "markdown",
   "metadata": {},
   "source": [
    "__  \n",
    "_0_   \n",
    "__1_   \n",
    "___2_   \n",
    "____3_   \n",
    "_____4  \n",
    "considering max step size = 2  \n",
    "n = 0 => 1 <- {[0, ]}  \n",
    "n = 1 => 1 <- {[1, 0]}  \n",
    "n = 2 => 2 <- {[2, 1, 0], [2, 0]}  \n",
    "n = 3 => 3 <- {[3, 2, 1, 0], [3, 2, 0], [3, 1, 0]}  \n",
    "n = 4 => 5 <- {[4, 3, 2, 1, 0], [4, 3, 2, 0], [4, 3, 1, 0], [4, 2, 1, 0], [4, 2, 0]}"
   ]
  },
  {
   "cell_type": "code",
   "execution_count": 18,
   "metadata": {},
   "outputs": [
    {
     "data": {
      "text/plain": [
       "20365011074"
      ]
     },
     "execution_count": 18,
     "metadata": {},
     "output_type": "execute_result"
    }
   ],
   "source": [
    "def num_ways_bottom_up(n):\n",
    "    if n==0 or n==1:\n",
    "        return 1\n",
    "    num = [1]+[0]*n\n",
    "    num[0]=num[1]=1\n",
    "    for i in range(2,n+1):\n",
    "        num[i]=num[i-1]+num[i-2]\n",
    "    return num[n]\n",
    "num_ways_bottom_up(50)"
   ]
  },
  {
   "cell_type": "markdown",
   "metadata": {},
   "source": [
    "### Fibonacci using recursive"
   ]
  },
  {
   "cell_type": "code",
   "execution_count": 37,
   "metadata": {},
   "outputs": [
    {
     "data": {
      "text/plain": [
       "102334155"
      ]
     },
     "execution_count": 37,
     "metadata": {},
     "output_type": "execute_result"
    }
   ],
   "source": [
    "def fib(n):\n",
    "    if n <= 1: return n\n",
    "    return fib(n - 1) + fib(n - 2)\n",
    "fib(40)"
   ]
  },
  {
   "cell_type": "markdown",
   "metadata": {},
   "source": [
    "### Fibonaci using the [dynamic programming](https://en.wikipedia.org/wiki/Dynamic_programming)"
   ]
  },
  {
   "cell_type": "code",
   "execution_count": 39,
   "metadata": {},
   "outputs": [
    {
     "data": {
      "text/plain": [
       "2880067194370816120"
      ]
     },
     "execution_count": 39,
     "metadata": {},
     "output_type": "execute_result"
    }
   ],
   "source": [
    "# Top Down approach\n",
    "m = {0 : 0, 1 : 1}\n",
    "def fib(n):\n",
    "    if n not in  m:\n",
    "        m[n] = fib(n - 1) + fib(n - 2)\n",
    "    return m[n]\n",
    "fib(90)"
   ]
  },
  {
   "cell_type": "code",
   "execution_count": 42,
   "metadata": {},
   "outputs": [
    {
     "data": {
      "text/plain": [
       "2880067194370816120"
      ]
     },
     "execution_count": 42,
     "metadata": {},
     "output_type": "execute_result"
    }
   ],
   "source": [
    "# Bottom Up approach\n",
    "def fib(n):\n",
    "    if n == 0:\n",
    "        return 0\n",
    "    else:\n",
    "        previousFib = 0; currentFib = 1\n",
    "        for i in range(n-1): # loop is skipped if n = 1\n",
    "            newFib = previousFib + currentFib\n",
    "            previousFib = currentFib\n",
    "            currentFib  = newFib\n",
    "        return currentFib\n",
    "fib(90)"
   ]
  }
 ],
 "metadata": {
  "interpreter": {
   "hash": "57baa5815c940fdaff4d14510622de9616cae602444507ba5d0b6727c008cbd6"
  },
  "kernelspec": {
   "display_name": "Python 3.7.8 64-bit",
   "language": "python",
   "name": "python3"
  },
  "language_info": {
   "codemirror_mode": {
    "name": "ipython",
    "version": 3
   },
   "file_extension": ".py",
   "mimetype": "text/x-python",
   "name": "python",
   "nbconvert_exporter": "python",
   "pygments_lexer": "ipython3",
   "version": "3.7.8"
  },
  "orig_nbformat": 4
 },
 "nbformat": 4,
 "nbformat_minor": 2
}
