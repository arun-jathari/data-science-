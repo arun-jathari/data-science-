{
 "cells": [
  {
   "cell_type": "code",
   "execution_count": 1,
   "metadata": {},
   "outputs": [
    {
     "data": {
      "text/plain": [
       "487067745"
      ]
     },
     "execution_count": 1,
     "metadata": {},
     "output_type": "execute_result"
    }
   ],
   "source": [
    "def solution(n):\n",
    "    m = [[0 for i in range(n + 1)] for j in range(n + 1)]\n",
    "    m[0][0] = 1  # base case\n",
    "    for stair in range(1, n + 1):\n",
    "        for left in range(0, n + 1):\n",
    "            m[stair][left] = m[stair - 1][left]\n",
    "            if left >= stair:\n",
    "                m[stair][left] += m[stair - 1][left - stair]\n",
    "\t          \t\n",
    "    return m[n][n] -1\n",
    "solution(200)"
   ]
  },
  {
   "cell_type": "code",
   "execution_count": 14,
   "metadata": {},
   "outputs": [
    {
     "data": {
      "text/plain": [
       "487067745"
      ]
     },
     "execution_count": 14,
     "metadata": {},
     "output_type": "execute_result"
    }
   ],
   "source": [
    "def grandStair(n):\n",
    "    table = [1] + [0]*(n)\n",
    "    for brick in range(1, n+1):\n",
    "        for height in range(n, brick-1, -1):\n",
    "            table[height] += table[height - brick]\n",
    "    return table[-1]-1\n",
    "grandStair(200)"
   ]
  },
  {
   "cell_type": "code",
   "execution_count": 2,
   "metadata": {},
   "outputs": [
    {
     "data": {
      "text/plain": [
       "487067745"
      ]
     },
     "execution_count": 2,
     "metadata": {},
     "output_type": "execute_result"
    }
   ],
   "source": [
    "def answer(n):\n",
    "    # make n+1 coefficients\n",
    "    coefficients = [1]+[0]* n\n",
    "    # print('coefficient:',coefficients)\n",
    "    #go through all the combos\n",
    "    for i in range(1, n+1):\n",
    "        #start from the back and go down until you reach the middle\n",
    "        for j in range(n, i-1, -1):\n",
    "            # print (\"add\", coefficients[j-i], \"to position\", j, ' i:',i ,' j-i:',j-i)\n",
    "            # print('j:',j, ' i:',i,' ',j-i,' -> ',j)\n",
    "            coefficients[j] += coefficients[j-i]\n",
    "            # print (coefficients)\n",
    "    # print(coefficients)\n",
    "    return coefficients[n] - 1\n",
    "answer(200)"
   ]
  },
  {
   "cell_type": "code",
   "execution_count": 3,
   "metadata": {},
   "outputs": [
    {
     "data": {
      "text/plain": [
       "487067745"
      ]
     },
     "execution_count": 3,
     "metadata": {},
     "output_type": "execute_result"
    }
   ],
   "source": [
    "def solution(n):\n",
    "    l = [1]+[0]* n\n",
    "    for i in range(1, n+1):\n",
    "        for j in range(n, i-1, -1):\n",
    "            l[j] += l[j-i]\n",
    "    return l[n] - 1\n",
    "solution(200)"
   ]
  },
  {
   "cell_type": "markdown",
   "metadata": {},
   "source": [
    "### Fibonacci using recursive"
   ]
  },
  {
   "cell_type": "code",
   "execution_count": 37,
   "metadata": {},
   "outputs": [
    {
     "data": {
      "text/plain": [
       "102334155"
      ]
     },
     "execution_count": 37,
     "metadata": {},
     "output_type": "execute_result"
    }
   ],
   "source": [
    "def fib(n):\n",
    "    if n <= 1: return n\n",
    "    return fib(n - 1) + fib(n - 2)\n",
    "fib(40)"
   ]
  },
  {
   "cell_type": "markdown",
   "metadata": {},
   "source": [
    "### Fibonaci using the [dynamic programming](https://en.wikipedia.org/wiki/Dynamic_programming)"
   ]
  },
  {
   "cell_type": "code",
   "execution_count": 39,
   "metadata": {},
   "outputs": [
    {
     "data": {
      "text/plain": [
       "2880067194370816120"
      ]
     },
     "execution_count": 39,
     "metadata": {},
     "output_type": "execute_result"
    }
   ],
   "source": [
    "# Top Down approach\n",
    "m = {0 : 0, 1 : 1}\n",
    "def fib(n):\n",
    "    if n not in  m:\n",
    "        m[n] = fib(n - 1) + fib(n - 2)\n",
    "    return m[n]\n",
    "fib(90)"
   ]
  },
  {
   "cell_type": "code",
   "execution_count": 42,
   "metadata": {},
   "outputs": [
    {
     "data": {
      "text/plain": [
       "2880067194370816120"
      ]
     },
     "execution_count": 42,
     "metadata": {},
     "output_type": "execute_result"
    }
   ],
   "source": [
    "# Bottom Up approach\n",
    "def fib(n):\n",
    "    if n == 0:\n",
    "        return 0\n",
    "    else:\n",
    "        previousFib = 0; currentFib = 1\n",
    "        for i in range(n-1): # loop is skipped if n = 1\n",
    "            newFib = previousFib + currentFib\n",
    "            previousFib = currentFib\n",
    "            currentFib  = newFib\n",
    "        return currentFib\n",
    "fib(90)"
   ]
  }
 ],
 "metadata": {
  "interpreter": {
   "hash": "57baa5815c940fdaff4d14510622de9616cae602444507ba5d0b6727c008cbd6"
  },
  "kernelspec": {
   "display_name": "Python 3.7.8 64-bit",
   "language": "python",
   "name": "python3"
  },
  "language_info": {
   "codemirror_mode": {
    "name": "ipython",
    "version": 3
   },
   "file_extension": ".py",
   "mimetype": "text/x-python",
   "name": "python",
   "nbconvert_exporter": "python",
   "pygments_lexer": "ipython3",
   "version": "3.7.8"
  },
  "orig_nbformat": 4
 },
 "nbformat": 4,
 "nbformat_minor": 2
}
