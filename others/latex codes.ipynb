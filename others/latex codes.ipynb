{
 "cells": [
  {
   "cell_type": "markdown",
   "metadata": {},
   "source": [
    "https://personal.math.ubc.ca/~pwalls/math-python/jupyter/latex/  \n",
    "https://medium.com/analytics-vidhya/the-ultimate-markdown-guide-for-jupyter-notebook-d5e5abf728fd\n",
    "https://katex.org/docs/support_table.html  "
   ]
  },
  {
   "cell_type": "markdown",
   "metadata": {},
   "source": [
    "$C \\propto \\displaystyle\\frac 1\\lambda$ &emsp; \\$C \\propto \\displaystyle\\frac 1\\lambda\\$  \n",
    "$\\operatorname*{xyz}\\limits_{\\theta}$ &emsp; \\$\\operatorname*{xyz}\\limits_{\\theta}\\$  \n",
    "$\\min\\limits_{\\theta}$ &emsp; \\$\\min\\limits_{\\theta}\\$  \n",
    "$x_n$  &emsp; \\$x_n\\$   \n",
    "$x^2$ &emsp; \\$x^2\\$  \n",
    "$\\infty$ &emsp; \\$\\infty\\$  \n",
    "$\\lambda$ &emsp; \\$\\lambda\\$  \n",
    "$\\frac{a}{b}$ &emsp; \\$\\frac{a}{b}\\$  \n",
    "$\\partial$ &emsp; \\$\\partial\\$  \n",
    "$\\alpha$ &emsp; \\$\\alpha\\$  \n",
    "$\\beta$ &emsp; \\$\\beta\\$  \n",
    "$\\gamma$ &emsp; \\$\\gamma\\$  \n",
    "$\\Gamma$ &emsp; \\$\\Gamma\\$  \n",
    "$\\mu$ &emsp; \\$\\mu\\$    \n",
    "$\\Delta$ &emsp; \\$\\Delta\\$  \n",
    "$\\sin$ &emsp; \\$\\sin\\$  \n",
    "$\\cos$ &emsp; \\$\\cos\\$\n",
    "$\\tan$ &emsp; \\$\\tan\\$  \n",
    "$\\sum_{n=0}^{\\infty}$ &emsp; \\$\\sum_{n=0}^{\\infty}\\$  \n",
    "  \n",
    "$\\displaystyle\\sum_{n=0}^{\\infty}$ &emsp; \\$\\displaystyle\\sum_{n=0}^{\\infty}\\$  \n",
    "  \n",
    "$\\prod_{n=0}^{\\infty}$ &emsp; \\$\\prod_{n=0}^{\\infty}\\$  \n",
    "$\\int_a^b$ &emsp; \\$\\int_a^b\\$  \n",
    "$\\mathrm{Hom}$ &emsp; \\$\\mathrm{Hom}\\$  --roman letters  \n",
    "$\\mathbf{v}$ &emsp; \\$mathbf{v}\\$  --boldface for uppercase and lowercase letters and digits  \n",
    "$\\mathbb{Z}$ &emsp; \\$\\mathbb{Z}\\$ --blackboard-bold  \n",
    "$\\mathscr{L}$ &emsp; \\$\\mathscr{L}\\$ --turn script typestyle for uppercase letters. If lowercase script letters are not available, then they are typeset in a roman typestyle.  \n",
    "$\\mathfrak{g}$ &emsp; \\$\\mathfrak{g}\\$ --turn fraktur font for uppercase and lowercase letters and digits (and a few other characters).  \n",
    "$\\dots$\t&emsp; \\$\\dots\\$  \n",
    "$\\vdots$ &emsp; \\$\\vdots\\$  \n",
    "$\\ddots$ &emsp; \\$\\ddots\\$  \n",
    "  \n",
    "$\\begin{matrix} a & b \\\\ c & d \\end{matrix}$ &emsp; \\$\\begin{matrix} a & b \\\\ c & d \\end{matrix}\\$\n",
    "\n",
    "$\\begin{pmatrix} a & b \\\\ c & d \\end{pmatrix}$ &emsp; \\$\\begin{pmatrix} a & b \\\\ c & d \\end{pmatrix}\\$  \n",
    "  \n",
    "$\\begin{bmatrix} 1 & 2 & 1 \\\\ 3 & 0 & 1 \\\\ 0 & 2 & 4 \\end{bmatrix}$ &emsp; \\$\\begin{bmatrix} 1 & 2 & 1 \\\\ 3 & 0 & 1 \\\\ 0 & 2 & 4 \\end{bmatrix}\\$  \n",
    "  \n",
    "$\\left( \\frac{p}{q} \\right)$ &emsp; \\$\\left( \\frac{p}{q} \\right)\\$  \n",
    "  \n",
    "$\n",
    "\\mathbf{J}\n",
    "=\\frac{d \\mathbf{f}}{d \\mathbf{x}}\n",
    "=\\left[ \\frac{\\partial \\mathbf{f}}{\\partial x_1}\n",
    "\\cdots \\frac{\\partial \\mathbf{f}}{\\partial x_n} \\right]\n",
    "=\\begin{bmatrix}\n",
    "\\frac{\\partial f_1}{\\partial x_1} & \\cdots &\n",
    "\\frac{\\partial f_1}{\\partial x_n} \\\\\n",
    "\\vdots & \\ddots & \\vdots \\\\\n",
    "\\frac{\\partial f_m}{\\partial x_1} & \\cdots &\n",
    "\\frac{\\partial f_m}{\\partial x_n}\n",
    "\\end{bmatrix}\n",
    "$  \n",
    "&  \n",
    "$\\And$ &emsp; \\$\\And\\$  \n",
    "$\\epsilon$ &emsp; \\$\\epsilon\\$  \n",
    "$\\theta$ &emsp; \\$\\theta\\$  \n",
    "$\\Theta$ &emsp; \\$\\Theta\\$  \n",
    "$\\approx$  &emsp; \\$\\approx\\$  \n",
    "$\\approxeq$ &emsp; \\$\\approxeq\\$  \n",
    "$\\ge$ &emsp; \\$\\ge\\$  \n",
    "$\\le$ &emsp; \\$\\le\\$  \n",
    "$\\bar x$ &emsp; \\$\\bar x\\$  \n",
    "$\\therefore$ &emsp; \\$\\therefore\\$  \n",
    "$\\because$ &emsp; \\$\\because\\$  \n",
    "$\\between$ &emsp; \\$\\between\\$  \n",
    "$\\cup$ &emsp; \\$\\cup\\$  \n",
    "$\\cap$ &emsp; \\$\\cap\\$  \n",
    "$\\odot$ &emsp; \\$odot\\$  \n",
    "$\\oplus$ &emsp; \\$oplus\\$  \n",
    "$\\otimes$ &emsp; \\$\\otimes\\$  \n",
    "$\\star$ &emsp; \\$\\star\\$  \n",
    "$\\triangledown$ &emsp; \\$\\triangledown\\$  \n",
    "$\\triangle$ &emsp; \\$\\ triangle\\$  \n",
    "$\\binom n k$ &emsp; \\$\\binom n k\\$  \n",
    "$\\boxed ab$ &emsp; \\$\\boxed ab\\$  \n",
    "$\\boxed {ab}$ &emsp; \\$\\boxed {ab}\\$  \n",
    "$a\\brace b$ &emsp; \\$a\\brace b\\$  \n",
    "$a\\brack b$ &emsp; \\$a\\brack b\\$  \n",
    "$\\rightarrow$ &emsp; \\$\\rightarrow\\$  \n",
    "$\\bullet$ &emsp; \\$\\bullet\\$  \n",
    "$\\cal ABCDEFGHIJKLMNOPQRSTUVWXYZ$ &emsp; \\$\\cal ABCDEFGHIJKLMNOPQRSTUVWXYZ\\$  \n",
    " \n"
   ]
  },
  {
   "cell_type": "markdown",
   "metadata": {},
   "source": [
    "$\\begin{cases}\n",
    "   a &\\text{if } b \\\\\n",
    "   c &\\text{if } d\n",
    "\\end{cases}$\n",
    "$|x| \n",
    "=\\begin{cases}\n",
    "x  & \\text{if } x\\ge 0\\cr\n",
    "-x & \\text{if } x\\lt 0\n",
    "\\end{cases} $\n",
    "$%this is a comment$  \n",
    "$\\begin{array}{cc}\n",
    "   a & b \\\\\n",
    "   c & d\n",
    "\\end{array}$  \n",
    "$\\asymp$ &emsp; \\$\\asymp\\$  \n"
   ]
  },
  {
   "cell_type": "markdown",
   "metadata": {},
   "source": [
    "$\\begin{equation}\\begin{split}\n",
    "   a &=b+c\\\\\n",
    "      &=e+f\n",
    "\\end{split}\n",
    "\\end{equation}$"
   ]
  },
  {
   "cell_type": "markdown",
   "metadata": {},
   "source": [
    "\\begin{CD}\n",
    "   A @>a>> B \\\\\n",
    "@VbVV @AAcA \\\\\n",
    "   C @= D\n",
    "\\end{CD}"
   ]
  },
  {
   "cell_type": "markdown",
   "metadata": {},
   "source": [
    "$\\dbinom n k$"
   ]
  }
 ],
 "metadata": {
  "language_info": {
   "name": "python"
  },
  "orig_nbformat": 4
 },
 "nbformat": 4,
 "nbformat_minor": 2
}
