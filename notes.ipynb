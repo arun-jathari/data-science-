{
 "cells": [
  {
   "cell_type": "markdown",
   "metadata": {},
   "source": [
    "$$\\frac{\\partial MSE}{\\partial \\theta_0} = -\\frac{2}{n}\\sum_{i=1}^{n}\\big(y^{(i)}-\\theta_0-\\theta_1 x^{(i)}\\big)$$\n",
    "$$\\frac{\\partial MSE}{\\partial \\theta_1} = -\\frac{2}{n}\\sum_{i=1}^{n}\\big(y^{(i)}-\\theta_0-\\theta_1 x^{(i)}\\big)\\big(x^{(i)}\\big)$$  \n",
    "\n",
    "Here $\\theta_0$ is intercept and $\\theta_1$ is slope\n"
   ]
  },
  {
   "cell_type": "markdown",
   "metadata": {},
   "source": [
    "| model |  |\n",
    "| --- | ---|\n",
    "| init |initialize the coefficiesnts like intercept and slope|\n",
    "| predict |estimate the output based on the current coefficiesnts values|\n",
    "| get summary |the user friendly output summary|\n",
    "|  |  |\n",
    "|<b>cost function | it calucaltes the difference between the true and predicated values <br> eg.: MSE, MAE |\n",
    "|  |  |\n",
    "| <b>optimizer | |\n",
    "| calculate gradients | it will calculate the gradients of the errors and find out the new deltas of variables <br> eg.: $\\partial$ slope & $\\partial$ intercept values |\n",
    "| perform gradient descent | here the new values of variables will be caluclated|"
   ]
  },
  {
   "cell_type": "markdown",
   "metadata": {},
   "source": [
    "<b>Gradient Descent</b>  \n",
    "<i>hyper params</i>: learning rate $\\eta$, no. of iterations  \n",
    "  \n",
    "new $\\theta_1$ = old $\\theta_1 - \\eta * \\frac{\\partial MSE}{\\partial \\theta_1} $  \n",
    "  \n",
    "new $\\theta_0$ = old $\\theta_0 - \\eta * \\frac{\\partial MSE}{\\partial \\theta_0} $ \n",
    "\n",
    "note: $\\eta$ will decide the stepsize of descent.  \n",
    "&emsp;&emsp;larger $\\eta$ may overshoot the local minima.  \n",
    "&emsp;&emsp;smaller $\\eta$ will take longer time and may not reach the minima\n",
    "\n",
    "<b>step 1 </b>  \n",
    "calculate the difference of the true and predicted values i.e., $\\sum_{i=1}^{n}\\big(y^{(i)}-\\theta_0-\\theta_1 x^{(i)}\\big)$\n",
    "   \n",
    "<b>step 2 </b>  \n",
    "calculate the partial derivatives i.e., $\\frac{\\partial MSE}{\\partial \\theta_1}, \\frac{\\partial MSE}{\\partial \\theta_0}$  \n",
    "  \n",
    "<b>step 3 </b>  \n",
    "calculate the new $\\theta_0 \\& \\theta_1$ i.e., model's intercept and slope\n",
    "\n",
    "<b>step 4 </b>  \n",
    "continue the steps from 1 to 3 untill the cost becomes negligible"
   ]
  },
  {
   "cell_type": "markdown",
   "metadata": {},
   "source": [
    "### UnSupervised Learning\n",
    "<img src=\"media/UnSupervised Learning.drawio.svg\" />"
   ]
  },
  {
   "cell_type": "markdown",
   "metadata": {},
   "source": [
    "### Supervised Learning\n",
    "<img src=\"media/Supervised Learning.drawio.svg\" />"
   ]
  },
  {
   "cell_type": "markdown",
   "metadata": {},
   "source": [
    "## Cost Function (Objective Function)\n",
    "It helps in maintaining consistant optimization of the model. if cost function always shows smaller errors then optimizer will make smaller changes in the model parameters, if cost function shows larger error for some updates then the optimizer will maker sure that these kind of changes are avoided  \n",
    "e.g.: MSE will throw large error for outliers compared to MAE"
   ]
  },
  {
   "cell_type": "markdown",
   "metadata": {},
   "source": [
    "### Gradient Descent\n",
    "<img src=\"media/Gradient Descent Graphs.drawio.svg\" />"
   ]
  },
  {
   "cell_type": "markdown",
   "metadata": {},
   "source": [
    "## Good and Bad of Data  \n",
    "Is Large amount of data is good?\n",
    "* yes, if it is representative\n",
    "* Doesn't contain errors\n",
    "* Aren't missing key information"
   ]
  },
  {
   "cell_type": "markdown",
   "metadata": {},
   "source": [
    "#### Representative?  \n",
    "<b>Sample Data</b>: it is a subset of the total data which is good enough to express the whole data  \n",
    "&emsp; e.g.: Like Survays made of discrete people and make inferences on all people  \n",
    "<b>Population Data</b>: It is every data available"
   ]
  },
  {
   "cell_type": "markdown",
   "metadata": {},
   "source": [
    "#### Errors in data?  \n",
    "<b>Skewed Data</b>: if majority data collected is favoring one set of outputs then it is called skewed data  \n",
    "&emsp; e.g.: student data contains $90\\%$ girls and $10\\%$ boys  \n",
    "<b>Measurement error</b>: Errors due to the Insturment/tool used to collect the data  \n",
    "&emsp; e.g.: rouding errors in data where scale is Billion $\\$$  \n",
    "<b>Data Entry errors</b>: Incorrect entry of data at time of data collection  \n",
    "&emsp; e.g.: size of the height of human is recorded as 18mts instead of 1.8mts\n"
   ]
  },
  {
   "cell_type": "markdown",
   "metadata": {},
   "source": [
    "#### [Missing Data](https://towardsdatascience.com/all-about-missing-data-handling-b94b8b5d2184)  \n",
    "If there is any missing information in any of the column of the collected data then it is called as Missing Data  \n",
    "which can be imputed by many procedures like mean, mode, regression etc,.  \n",
    "or  \n",
    "remove the samples which are incomplete  \n",
    "or  \n",
    "Use a model which can accept these missing data e.g.: k-Nearest Neighbours, classification and regression trees, XGBoost"
   ]
  },
  {
   "cell_type": "markdown",
   "metadata": {},
   "source": [
    "## Types of Data  \n",
    "### Continuous, ordinal, and categorical data  \n",
    "Continuous data: it is numeric data to which value can be added and deleted  \n",
    "&emsp; e.g.: age, height, income etc,.  \n",
    "  \n",
    "Categorical data: Data containing Labels or categories  \n",
    "&emsp; e.g.: gender, occupation, genre etc,.  \n",
    "  \n",
    "Ordinal data: data which have highrarchical order which can be expressed as sequence of numbers  \n",
    "&emsp; e.g.: rank, ratings, income level etc,."
   ]
  },
  {
   "cell_type": "markdown",
   "metadata": {},
   "source": [
    "## Datatypes  \n",
    "### Primitive  \n",
    "<b>integers:</b> counting numbers, like 2  \n",
    "<b>floating-point numbers:</b> numbers with decimal places, like 2.43  \n",
    "<b>strings:</b> letters and words  \n",
    "<b>booleans:</b> true and false  \n",
    "<b>None, void, or null:</b> not data, but rather the absence of it  \n",
    "  \n",
    "### Derivative  \n",
    "Its a combination of one or more primitive datatypes  \n",
    "e.g.: images, dates, 3d models"
   ]
  },
  {
   "cell_type": "markdown",
   "metadata": {},
   "source": [
    "### How to handle these different types of data?  \n",
    "for continuous data, floating point numbers are best  \n",
    "for ordinal data, encode them into integers  \n",
    "for categorical data,  \n",
    "&emsp; if the data contains only two categories, then use either boolean or binary encoding  \n",
    "&emsp; if it has more than two categories, use dummy variables/one-hot encoding"
   ]
  },
  {
   "cell_type": "code",
   "execution_count": 1,
   "metadata": {},
   "outputs": [
    {
     "ename": "NameError",
     "evalue": "name 'df' is not defined",
     "output_type": "error",
     "traceback": [
      "\u001b[1;31m---------------------------------------------------------------------------\u001b[0m",
      "\u001b[1;31mNameError\u001b[0m                                 Traceback (most recent call last)",
      "\u001b[1;32m~\\AppData\\Local\\Temp/ipykernel_8836/2215874057.py\u001b[0m in \u001b[0;36m<module>\u001b[1;34m\u001b[0m\n\u001b[0;32m     10\u001b[0m \u001b[1;33m\u001b[0m\u001b[0m\n\u001b[0;32m     11\u001b[0m \u001b[1;31m# assigning a graph to each ax\u001b[0m\u001b[1;33m\u001b[0m\u001b[1;33m\u001b[0m\u001b[1;33m\u001b[0m\u001b[0m\n\u001b[1;32m---> 12\u001b[1;33m \u001b[0msns\u001b[0m\u001b[1;33m.\u001b[0m\u001b[0mboxplot\u001b[0m\u001b[1;33m(\u001b[0m\u001b[0mdf\u001b[0m\u001b[1;33m[\u001b[0m\u001b[1;34m\"Pclass\"\u001b[0m\u001b[1;33m]\u001b[0m\u001b[1;33m,\u001b[0m \u001b[0max\u001b[0m\u001b[1;33m=\u001b[0m\u001b[0max_box\u001b[0m\u001b[1;33m)\u001b[0m\u001b[1;33m\u001b[0m\u001b[1;33m\u001b[0m\u001b[0m\n\u001b[0m\u001b[0;32m     13\u001b[0m \u001b[0msns\u001b[0m\u001b[1;33m.\u001b[0m\u001b[0mhistplot\u001b[0m\u001b[1;33m(\u001b[0m\u001b[0mdata\u001b[0m\u001b[1;33m=\u001b[0m\u001b[0mdf\u001b[0m\u001b[1;33m,\u001b[0m \u001b[0mx\u001b[0m\u001b[1;33m=\u001b[0m\u001b[1;34m\"Pclass\"\u001b[0m\u001b[1;33m,\u001b[0m \u001b[0max\u001b[0m\u001b[1;33m=\u001b[0m\u001b[0max_hist\u001b[0m\u001b[1;33m)\u001b[0m\u001b[1;33m\u001b[0m\u001b[1;33m\u001b[0m\u001b[0m\n\u001b[0;32m     14\u001b[0m \u001b[1;33m\u001b[0m\u001b[0m\n",
      "\u001b[1;31mNameError\u001b[0m: name 'df' is not defined"
     ]
    },
    {
     "data": {
      "image/png": "[encoded data removed]",
      "text/plain": [
       "<Figure size 432x288 with 2 Axes>"
      ]
     },
     "metadata": {},
     "output_type": "display_data"
    }
   ],
   "source": []
  },
  {
   "cell_type": "code",
   "execution_count": null,
   "metadata": {},
   "outputs": [],
   "source": []
  }
 ],
 "metadata": {
  "interpreter": {
   "hash": "57baa5815c940fdaff4d14510622de9616cae602444507ba5d0b6727c008cbd6"
  },
  "kernelspec": {
   "display_name": "Python 3.7.8 64-bit",
   "language": "python",
   "name": "python3"
  },
  "language_info": {
   "codemirror_mode": {
    "name": "ipython",
    "version": 3
   },
   "file_extension": ".py",
   "mimetype": "text/x-python",
   "name": "python",
   "nbconvert_exporter": "python",
   "pygments_lexer": "ipython3",
   "version": "3.7.8"
  },
  "orig_nbformat": 4
 },
 "nbformat": 4,
 "nbformat_minor": 2
}
