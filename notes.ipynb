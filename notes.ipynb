{
 "cells": [
  {
   "cell_type": "markdown",
   "metadata": {},
   "source": [
    "$$\\frac{\\partial MSE}{\\partial \\theta_0} = -\\frac{2}{n}\\sum_{i=1}^{n}\\big(y^{(i)}-\\theta_0-\\theta_1 x^{(i)}\\big)$$\n",
    "$$\\frac{\\partial MSE}{\\partial \\theta_1} = -\\frac{2}{n}\\sum_{i=1}^{n}\\big(y^{(i)}-\\theta_0-\\theta_1 x^{(i)}\\big)\\big(x^{(i)}\\big)$$  \n",
    "\n",
    "Here $\\theta_0$ is intercept and $\\theta_1$ is slope\n"
   ]
  },
  {
   "cell_type": "markdown",
   "metadata": {},
   "source": [
    "| model |  |\n",
    "| --- | ---|\n",
    "| init |initialize the coefficiesnts like intercept and slope|\n",
    "| predict |estimate the output based on the current coefficiesnts values|\n",
    "| get summary |the user friendly output summary|\n",
    "|  |  |\n",
    "|<b>cost function | it calucaltes the difference between the true and predicated values <br> eg.: MSE, MAE |\n",
    "|  |  |\n",
    "| <b>optimizer | |\n",
    "| calculate gradients | it will calculate the gradients of the errors and find out the new deltas of variables <br> eg.: $\\partial$ slope & $\\partial$ intercept values |\n",
    "| perform gradient descent | here the new values of variables will be caluclated|"
   ]
  },
  {
   "cell_type": "markdown",
   "metadata": {},
   "source": [
    "<b>Gradient Descent</b>  \n",
    "<i>hyper params</i>: learning rate $\\eta$, no. of iterations  \n",
    "  \n",
    "new $\\theta_1$ = old $\\theta_1 - \\eta * \\frac{\\partial MSE}{\\partial \\theta_1} $  \n",
    "  \n",
    "new $\\theta_0$ = old $\\theta_0 - \\eta * \\frac{\\partial MSE}{\\partial \\theta_0} $ \n",
    "\n",
    "note: $\\eta$ will decide the stepsize of descent.  \n",
    "&emsp;&emsp;larger $\\eta$ may overshoot the local minima.  \n",
    "&emsp;&emsp;smaller $\\eta$ will take longer time and may not reach the minima\n",
    "\n",
    "<b>step 1 </b>  \n",
    "calculate the difference of the true and predicted values i.e., $\\sum_{i=1}^{n}\\big(y^{(i)}-\\theta_0-\\theta_1 x^{(i)}\\big)$\n",
    "   \n",
    "<b>step 2 </b>  \n",
    "calculate the partial derivatives i.e., $\\frac{\\partial MSE}{\\partial \\theta_1}, \\frac{\\partial MSE}{\\partial \\theta_0}$  \n",
    "  \n",
    "<b>step 3 </b>  \n",
    "calculate the new $\\theta_0 \\& \\theta_1$ i.e., model's intercept and slope\n",
    "\n",
    "<b>step 4 </b>  \n",
    "continue the steps from 1 to 3 untill the cost becomes negligible"
   ]
  },
  {
   "cell_type": "markdown",
   "metadata": {},
   "source": [
    "### Supervised Learning\n",
    "<img src=\"media/Supervised Learning.drawio.svg\" />"
   ]
  },
  {
   "cell_type": "markdown",
   "metadata": {},
   "source": [
    "### UnSupervised Learning\n",
    "<img src=\"media/UnSupervised Learning.drawio.svg\" />"
   ]
  },
  {
   "cell_type": "markdown",
   "metadata": {},
   "source": []
  }
 ],
 "metadata": {
  "language_info": {
   "name": "python"
  },
  "orig_nbformat": 4
 },
 "nbformat": 4,
 "nbformat_minor": 2
}
