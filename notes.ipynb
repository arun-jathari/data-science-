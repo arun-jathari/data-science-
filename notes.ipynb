{
 "cells": [
  {
   "cell_type": "markdown",
   "metadata": {},
   "source": [
    "$$\\frac{\\partial MSE}{\\partial \\theta_0} = -\\frac{2}{m}\\sum_{i=1}^{m}\\big(y^{(i)}-\\theta_0-\\theta_1 x^{(i)}\\big)$$\n",
    "$$\\frac{\\partial MSE}{\\partial \\theta_1} = -\\frac{2}{m}\\sum_{i=1}^{m}\\big(y^{(i)}-\\theta_0-\\theta_1 x^{(i)}\\big)\\big(x^{(i)}\\big)$$  \n",
    "\n",
    "Here $\\theta_0$ is intercept and $\\theta_1$ is slope\n"
   ]
  },
  {
   "cell_type": "markdown",
   "metadata": {},
   "source": [
    "| **model** |  |\n",
    "| --- | ---|\n",
    "| init |initialize the coefficiesnts like intercept and slope|\n",
    "| predict |estimate the output based on the current coefficiesnts values|\n",
    "| get summary |the user friendly output summary|\n",
    "|  |  |\n",
    "|**cost function** | it calucaltes the difference between the true and predicated values <br> eg.: MSE, MAE |\n",
    "|  |  |\n",
    "| **optimizer** | |\n",
    "| calculate gradients | it will calculate the gradients of the errors and find out the new deltas of variables <br> eg.: $\\partial$ slope & $\\partial$ intercept values |\n",
    "| perform gradient descent | here the new values of variables will be caluclated|"
   ]
  },
  {
   "cell_type": "markdown",
   "metadata": {},
   "source": [
    "**Gradient Descent**  \n",
    "<i>hyper params</i>: learning rate $\\eta$, no. of iterations   \n",
    "  \n",
    "new $\\theta_1$ = old $\\theta_1 - \\eta * \\frac{\\partial MSE}{\\partial \\theta_1} $  \n",
    "  \n",
    "new $\\theta_0$ = old $\\theta_0 - \\eta * \\frac{\\partial MSE}{\\partial \\theta_0} $ \n",
    "\n",
    "note: $\\eta$ will decide the stepsize of descent.  \n",
    "&emsp;&emsp;larger $\\eta$ may overshoot the local minima.  \n",
    "&emsp;&emsp;smaller $\\eta$ will take longer time and may not reach the minima\n",
    "\n",
    "**step 1**  \n",
    "calculate the difference of the true and predicted values i.e., $\\displaystyle\\sum_{i=1}^{m}\\big(y^{(i)}-\\theta_0-\\theta_1 x^{(i)}\\big)$\n",
    "   \n",
    "**step 2**  \n",
    "calculate the partial derivatives i.e., $\\frac{\\partial MSE}{\\partial \\theta_1}, \\frac{\\partial MSE}{\\partial \\theta_0}$  \n",
    "  \n",
    "**step 3**  \n",
    "calculate the new $\\theta_0 \\& \\theta_1$ i.e., model's intercept and slope\n",
    "\n",
    "**step 4**  \n",
    "continue the steps from 1 to 3 untill the cost becomes negligible"
   ]
  },
  {
   "cell_type": "markdown",
   "metadata": {},
   "source": [
    "### UnSupervised Learning\n",
    "<img src=\"media/UnSupervised Learning.drawio.svg\" />"
   ]
  },
  {
   "cell_type": "markdown",
   "metadata": {},
   "source": [
    "### Supervised Learning\n",
    "<img src=\"media/Supervised Learning.drawio.svg\" />"
   ]
  },
  {
   "cell_type": "markdown",
   "metadata": {},
   "source": [
    "## Cost Function (Objective Function)\n",
    "It helps in maintaining consistant optimization of the model. if cost function always shows smaller errors then optimizer will make smaller changes in the model parameters, if cost function shows larger error for some updates then the optimizer will maker sure that these kind of changes are avoided  \n",
    "e.g.: MSE will throw large error for outliers compared to MAE"
   ]
  },
  {
   "cell_type": "markdown",
   "metadata": {},
   "source": [
    "### Gradient Descent\n",
    "<img src=\"media/Gradient Descent Graphs.drawio.svg\" />"
   ]
  },
  {
   "cell_type": "markdown",
   "metadata": {},
   "source": [
    "## Good and Bad of Data  \n",
    "Is Large amount of data is good?\n",
    "* yes, if it is representative\n",
    "* Doesn't contain errors\n",
    "* Aren't missing key information"
   ]
  },
  {
   "cell_type": "markdown",
   "metadata": {},
   "source": [
    "#### Representative?  \n",
    "**Sample Data**: it is a subset of the total data which is good enough to express the whole data  \n",
    "&emsp; e.g.: Like Survays made of discrete people and make inferences on all people  \n",
    "**Population Data**: It is every data available"
   ]
  },
  {
   "cell_type": "markdown",
   "metadata": {},
   "source": [
    "#### Errors in data?  \n",
    "**Skewed Data**: if majority data collected is favoring one set of outputs then it is called skewed data  \n",
    "&emsp; e.g.: student data contains $90\\%$ girls and $10\\%$ boys  \n",
    "**Measurement error**: Errors due to the Insturment/tool used to collect the data  \n",
    "&emsp; e.g.: rouding errors in data where scale is Billion $\\$$  \n",
    "**Data Entry errors**: Incorrect entry of data at time of data collection  \n",
    "&emsp; e.g.: size of the height of human is recorded as 18mts instead of 1.8mts\n"
   ]
  },
  {
   "cell_type": "markdown",
   "metadata": {},
   "source": [
    "#### [Missing Data](https://towardsdatascience.com/all-about-missing-data-handling-b94b8b5d2184)  \n",
    "If there is any missing information in any of the column of the collected data then it is called as Missing Data  \n",
    "which can be imputed by many procedures like mean, mode, regression etc,.  \n",
    "or  \n",
    "remove the samples which are incomplete  \n",
    "or  \n",
    "Use a model which can accept these missing data e.g.: k-Nearest Neighbours, classification and regression trees, XGBoost"
   ]
  },
  {
   "cell_type": "markdown",
   "metadata": {},
   "source": [
    "## Types of Data  \n",
    "### Continuous, ordinal, and categorical data  \n",
    "Continuous data: it is numeric data to which value can be added and deleted  \n",
    "&emsp; e.g.: age, height, income etc,.  \n",
    "  \n",
    "Categorical data: Data containing Labels or categories  \n",
    "&emsp; e.g.: gender, occupation, genre etc,.  \n",
    "  \n",
    "Ordinal data: data which have highrarchical order which can be expressed as sequence of numbers  \n",
    "&emsp; e.g.: rank, ratings, income level etc,."
   ]
  },
  {
   "cell_type": "markdown",
   "metadata": {},
   "source": [
    "## Datatypes  \n",
    "### Primitive  \n",
    "**integers:** counting numbers, like 2  \n",
    "**floating-point numbers:** numbers with decimal places, like 2.43  \n",
    "**strings:** letters and words  \n",
    "**booleans:** true and false  \n",
    "**None, void, or null:** not data, but rather the absence of it  \n",
    "  \n",
    "### Derivative  \n",
    "Its a combination of one or more primitive datatypes  \n",
    "e.g.: images, dates, 3d models"
   ]
  },
  {
   "cell_type": "markdown",
   "metadata": {},
   "source": [
    "### How to handle these different types of data?  \n",
    "for continuous data, floating point numbers are best  \n",
    "for ordinal data, encode them into integers  \n",
    "for categorical data,  \n",
    "&emsp; if the data contains only two categories, then use either boolean or binary encoding  \n",
    "&emsp; if it has more than two categories, use dummy variables/one-hot encoding"
   ]
  },
  {
   "cell_type": "markdown",
   "metadata": {},
   "source": [
    "### One-hot encoding, data cleaning, and statistical power  \n",
    "before performing we need to know whether what kind of impact it gonna make it can found out by statistical power  \n",
    "Statistical Power is the ability of the model to correctly identify the relations between features and labels  \n",
    "  \n",
    "**removing data:** removing data can lower the statistical power  \n",
    "&emsp; e.g.: skewed data like 99 girls 1 boy  \n",
    "**Unnessary columns:** unnessary columns can reduce the statistical power  \n",
    "&emsp; e.g.: gender information in a performance measurement  \n",
    "**one hot encoding** can also lowers the Stastical power much more than the continuous or categorical data  \n",
    "&emsp; e.g.: column with 200 categories in 1000 row data"
   ]
  },
  {
   "cell_type": "markdown",
   "metadata": {},
   "source": [
    "## Numpy  \n",
    "Its a python library which will provide the functionality to perform comparable mathematical operations like MATLAB and R. It helps user building complex mathematical functions"
   ]
  },
  {
   "cell_type": "markdown",
   "metadata": {},
   "source": [
    "## Pandas  \n",
    "It is also a python library which helps user to understand the data in tabular formats, in short it is kind of the python version of excel"
   ]
  },
  {
   "cell_type": "markdown",
   "metadata": {},
   "source": [
    "## Hypothesis testing  \n",
    "Data analytics and visualizations are iterative processess typically  \n",
    "**Data cleaning** and **imputing Missing values** in data  \n",
    "**Applying Statistical techniques** to understand if the sample data abel to represent the whole data  \n",
    "**Data Visualization** are used to understand the realations between various columns  \n",
    "**Hypothesis** is revised and repeat the above steps"
   ]
  },
  {
   "cell_type": "markdown",
   "metadata": {},
   "source": [
    "## Outliers  \n",
    "the data points which are beyound the normal data/reasonable data is known as outliers  \n",
    "some of these outliers can be found easily and for others we need to have the understanding of the data theoritically"
   ]
  },
  {
   "cell_type": "markdown",
   "metadata": {},
   "source": [
    "## Bias & Variance  \n",
    "These are variations in the data which can significantly effect our model performance, need to take care these data points through central tendency concepts"
   ]
  },
  {
   "cell_type": "markdown",
   "metadata": {},
   "source": [
    "## Linear Regression  \n",
    "Advantages:  \n",
    "Predictable and easy to interpret  \n",
    "easy to extrapolate  \n",
    "Optimal solution is usually garanteed\n",
    " - It can find the Optimal solution with garantee if the dataset is small"
   ]
  },
  {
   "cell_type": "markdown",
   "metadata": {},
   "source": [
    "#### Multiple Leanear Regression Assumptions  \n",
    "Every feature considered are assumed to be linearly independent, if not then the result of model can be misleading"
   ]
  },
  {
   "cell_type": "markdown",
   "metadata": {},
   "source": [
    "#### Goodness of fit: $R^2$ (Coefficient of Determination)  \n",
    "is the correlation between x and y squared.  \n",
    "Strong correlations means larger $R^2$  \n",
    "$R^2=1$ : pefectly predicts the output  \n",
    "$R^2=0$ : no relation between the variables  \n",
    "  \n",
    "$R^2$ limitations:\n",
    "* Model with high data will have high $R^2$ compared to same model with low data  \n",
    "* Cannot garantees the models prediction power on unseen data  \n",
    "* It cannot tell the direction of relation between variables\n",
    "  \n",
    "In complex models $R^2=0.3$ can be a perfect score\n"
   ]
  },
  {
   "cell_type": "markdown",
   "metadata": {},
   "source": [
    "## Regression Models  \n",
    "### Linear Regression  \n",
    "- it is the simplest of all the regression models  \n",
    "- no limit on the no of features used  \n",
    "- it comes in many forms\n",
    "    - Simple Linear Regression\n",
    "    - Multiple Linear Regression\n",
    "    - Polynomial Regression etc,.\n",
    "- e.g.: ols, Lasso and Ridge regression\n",
    "### Decision Trees  \n",
    "- A step-by-step approch\n",
    "- it splits the data into based on the higher entropy\n",
    "### Ensemble algorithms  \n",
    "- it is a group of multiple trees\n",
    "    - e.g.: Random Forest\n",
    "- its prediction capabilities are strong\n",
    "- it imporves the generality of model\n",
    ">  [Scikit-Learn documentation](https://scikit-learn.org/stable/supervised_learning.html)<br>[Scikit-Learn estimator cheat sheet](https://scikit-learn.org/stable/tutorial/machine_learning_map/index.html)\n"
   ]
  },
  {
   "cell_type": "markdown",
   "metadata": {},
   "source": [
    "$$\\boxed{J(\\theta) = \\displaystyle\\frac{1}{2m}\\displaystyle\\sum_{i=1}^{m}(h_{\\theta}(x^{(i)})-y^{(i)})^{2}}$$\n",
    "  \n",
    "$h_{\\theta}(x) = \\theta^{T}x = \\theta_{0} + \\theta_{1}*x$  \n",
    "in terms of matrix multiplication we can do it as  \n",
    "$\\implies \\boxed{h(\\theta) = \\begin{bmatrix} 1 & x_{0} \\\\ 1 & x_{1} \\\\ 1 & x_{2} \\end{bmatrix} \\times \\begin{bmatrix} \\theta_{0} \\\\ \\theta_{1} \\end{bmatrix}}$  \n",
    "i.e., $h(\\theta) = DataMatrix \\times Parameters$  \n",
    "  \n",
    "Similarly we can compare the multilple combinatios of these parameters as  \n",
    "$\\begin{bmatrix} 1 & x_{0} \\\\ 1 & x_{1} \\\\ 1 & x_{2} \\end{bmatrix} \\times \\begin{bmatrix} \\theta_{0}^{1} & \\theta_{0}^{2} & \\theta_{0}^{2} \\\\ \\theta_{1}^{1} & \\theta_{1}^{2} & \\theta_{1}^{3} \\end{bmatrix} = \\begin{bmatrix} h^{1}(\\theta) & h^{2}(\\theta) & h^{3}(\\theta) \\end{bmatrix}_{3 \\times 3}$  \n",
    "  \n",
    "**Properties of Matrix Multiplication (In general):**  \n",
    "A x B $\\ne$ B x A (not commutative)  \n",
    "A x (B x C) = (A x B) x C (Associative)  \n",
    "$I_{m \\times m}$ x $A_{m \\times n}$ = $A_{m \\times n}$ x $I_{n \\times n}$ = $A_{m \\times n}$ (Identity matrix)  \n",
    "If A is an (m x m) matrix and if it has an inverse  \n",
    "$A \\times A^{-1}=A^{-1} \\times A=I_{m \\times m}$  \n",
    "&emsp;*Note:* Matrices that don't have an inverse are called as \"singular\" or \"degenerate\"  \n",
    "$A^{T} = B$ (Matrix Transpose)  \n",
    "$\\implies B_{ij} = A_{ji}$\n",
    "  \n",
    "  \n",
    "For Multi variable Linear regression\n",
    "$X = \\begin{bmatrix} x_{0} \\\\ x_{1} \\\\ \\vdots \\\\ x_{n} \\end{bmatrix}_{n+1,1} (where \\space x_{0}=1) ,\\space \\space \\space\n",
    "\\Theta = \\begin{bmatrix} \\theta_{0} \\\\ \\theta_{1} \\\\ \\vdots \\\\ \\theta_{n} \\end{bmatrix}_{n+1, 1}$\n",
    "$\\because \\space h_{\\theta}(x) = \\theta_{0} + \\theta_{1}*x_{1} + \\theta_{2}*x_{2} + \\dots + \\theta_{n}*x_{n}$  \n",
    "  \n",
    "$\\implies h_{\\theta}(x)= \\begin{bmatrix} \\theta_{0} & \\theta_{1} & \\dots & \\theta_{n} \\end{bmatrix} \\times$\n",
    "$\\begin{bmatrix} x_{0} \\\\ x_{1} \\\\ \\vdots \\\\ x_{n} \\end{bmatrix}$\n",
    "$=  \\Theta^{T} \\times X$  \n",
    "  \n",
    "here n is number of features  \n"
   ]
  },
  {
   "cell_type": "markdown",
   "metadata": {},
   "source": [
    "  \n",
    "new algorithm $(n \\ge 1)$  \n",
    "  \n",
    "Repeat $\\bigg\\{$  \n",
    "$$\\boxed{\\theta_{j} = \\theta_{j} - \\alpha \\frac{1}{m}\\sum_{i=1}^{m}(h_{\\theta}(x^{(i)})-y^{(i)})x_{j}^{(i)}}$$ \n",
    "(simultaneously update $\\theta_{j}$ for j = 0, $\\dots$, n)  \n",
    "$\\bigg\\}$  \n",
    "where $x_{0}^{(i)}=1$  for (i $\\epsilon$ 1, $\\dots$, m)"
   ]
  },
  {
   "cell_type": "markdown",
   "metadata": {},
   "source": [
    "**Feature Scaling**  \n",
    "* Mean Normalization\n",
    "$$x_{i}:=\\frac{x_{i}-\\mu_{i}}{s_{i}}$$\n",
    "$s_{i} = max(x_{i}) - min(x_{i})$  \n",
    "standard deviation"
   ]
  },
  {
   "cell_type": "markdown",
   "metadata": {},
   "source": [
    "Normal Equation  \n",
    "  \n",
    "$\\theta = (X^{T}X)^{-1}X^{T}y$\n",
    "  \n",
    "here X is of (m x (n+1)) dimension, where first column will be all 1's i.e., $x_{0}^{i}$\n"
   ]
  },
  {
   "cell_type": "markdown",
   "metadata": {},
   "source": [
    "|**Gradient Descent** | **Normal Equation**|  \n",
    "| --- | ---|\n",
    "| Need to choose alpha | No need to choose alpha|  \n",
    "| Needs many iterations | No need to iterate|  \n",
    "|$O(kn^{2})$ | $O(n^{3})$, need to calculate inverse of $X^{T}X$|  \n",
    "| Works well when n is large | Slow if n is very large|\n",
    "|consider $m>10^{6}$| $m<10^{6}$ |"
   ]
  },
  {
   "cell_type": "markdown",
   "metadata": {},
   "source": [
    "if $X^{T}X$ is non invertable  \n",
    "* Redundant features(Linearly dependent)  \n",
    "    e.g.: $x_{1} = 2x_{2}$\n",
    "* Too many features (e.g: $m \\le n$)\n",
    "    * delete some features or use regularization"
   ]
  },
  {
   "cell_type": "markdown",
   "metadata": {},
   "source": [
    "Cost function in Multivariate case using vectors Gradient Descent \n",
    "$$\\boxed{J(\\theta) = \\frac{1}{2m}(X\\Theta - y)^{T}(X\\Theta - y)}$$"
   ]
  },
  {
   "cell_type": "markdown",
   "metadata": {},
   "source": [
    "**Normal Equation**\n",
    "$$\\boxed{\\Theta = (X^{T}X)^{-1}X^{T}y}$$"
   ]
  },
  {
   "cell_type": "markdown",
   "metadata": {},
   "source": [
    "**Logistic Regression**  \n",
    "  \n",
    "$h_{\\theta}(x) = g(\\theta^{T}x)$  \n",
    "  \n",
    "$g(z) = \\displaystyle\\frac{1}{1+e^{-z}}$  \n",
    "  \n",
    "$\\implies \\boxed{ h_{\\theta}(x) = \\displaystyle\\frac{1}{1+e^{-\\theta^{T}x}}}$  \n",
    "  \n",
    "$\\implies 0\\le h_{\\theta}(x)\\le 1$  \n",
    "\n",
    "$\\boxed{h_{\\theta}(x) = P(y=1|_{x};\\theta)}$  \n",
    "\"porbability that y=1, given x, parameterized by $\\theta$\""
   ]
  },
  {
   "cell_type": "markdown",
   "metadata": {},
   "source": []
  }
 ],
 "metadata": {
  "interpreter": {
   "hash": "57baa5815c940fdaff4d14510622de9616cae602444507ba5d0b6727c008cbd6"
  },
  "kernelspec": {
   "display_name": "Python 3.7.8 64-bit",
   "language": "python",
   "name": "python3"
  },
  "language_info": {
   "codemirror_mode": {
    "name": "ipython",
    "version": 3
   },
   "file_extension": ".py",
   "mimetype": "text/x-python",
   "name": "python",
   "nbconvert_exporter": "python",
   "pygments_lexer": "ipython3",
   "version": "3.7.8"
  },
  "orig_nbformat": 4
 },
 "nbformat": 4,
 "nbformat_minor": 2
}
