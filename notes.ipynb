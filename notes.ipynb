{
 "cells": [
  {
   "cell_type": "markdown",
   "metadata": {},
   "source": [
    "$$\\frac{\\partial MSE}{\\partial \\theta_0} = -\\frac{2}{n}\\sum_{i=1}^{n}\\big(y^{(i)}-\\theta_0-\\theta_1 x^{(i)}\\big)$$\n",
    "$$\\frac{\\partial MSE}{\\partial \\theta_1} = -\\frac{2}{n}\\sum_{i=1}^{n}\\big(y^{(i)}-\\theta_0-\\theta_1 x^{(i)}\\big)\\big(x^{(i)}\\big)$$"
   ]
  },
  {
   "cell_type": "markdown",
   "metadata": {},
   "source": [
    "Here $\\theta_0$ is intercept and $\\theta_1$ is intercept"
   ]
  }
 ],
 "metadata": {
  "language_info": {
   "name": "python"
  },
  "orig_nbformat": 4
 },
 "nbformat": 4,
 "nbformat_minor": 2
}
