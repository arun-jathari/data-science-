{
 "cells": [
  {
   "cell_type": "markdown",
   "metadata": {},
   "source": [
    "How to parse the dates at the time of loading data  \n",
    "<code> df = pandas.read_csv('data.csv', parse_dates=['date'])</code>"
   ]
  },
  {
   "cell_type": "markdown",
   "metadata": {},
   "source": [
    "Filter the data based on the date  \n",
    "<code>df = df[[d.month == 1 for d in df.date]].copy()</code>  \n",
    "* fetch only the january month data"
   ]
  },
  {
   "cell_type": "markdown",
   "metadata": {},
   "source": [
    "club the yearly data into a fraction of day of year from a specific date  \n",
    "<code>df[\"years_since_1990\"] = [(d.year + d.timetuple().tm_yday / 365.25) - 1990 for d in df.date]</code>"
   ]
  },
  {
   "cell_type": "markdown",
   "metadata": {},
   "source": [
    "<b>Normalize</b> scale and offset the data column  \n",
    "<code>df[\"normalised_temperature\"] = (df[\"min_temperature\"] - np.mean(df[\"min_temperature\"])) / np.std(df[\"min_temperature\"])</code>"
   ]
  },
  {
   "cell_type": "markdown",
   "metadata": {},
   "source": [
    "To show the march $1^{st}$ of 1990  \n",
    "<code>from datetime import datetime  \n",
    "print(datetime(1990,3,1)) # yyyy,mm,dd</code>"
   ]
  },
  {
   "cell_type": "markdown",
   "metadata": {},
   "source": [
    "Filter data based on list of dates  \n",
    "<code>desired_dates = [  \n",
    "    datetime(1950,2,1),  \n",
    "    datetime(1960,2,1),  \n",
    "    datetime(1970,2,1),  \n",
    "    datetime(1980,2,1),  \n",
    "]  \n",
    "  \n",
    "df = df[df.date.isin(desired_dates)].copy()</code>"
   ]
  },
  {
   "cell_type": "markdown",
   "metadata": {},
   "source": []
  }
 ],
 "metadata": {
  "interpreter": {
   "hash": "57baa5815c940fdaff4d14510622de9616cae602444507ba5d0b6727c008cbd6"
  },
  "kernelspec": {
   "display_name": "Python 3.7.8 64-bit",
   "language": "python",
   "name": "python3"
  },
  "language_info": {
   "codemirror_mode": {
    "name": "ipython",
    "version": 3
   },
   "file_extension": ".py",
   "mimetype": "text/x-python",
   "name": "python",
   "nbconvert_exporter": "python",
   "pygments_lexer": "ipython3",
   "version": "3.7.8"
  },
  "orig_nbformat": 4
 },
 "nbformat": 4,
 "nbformat_minor": 2
}
